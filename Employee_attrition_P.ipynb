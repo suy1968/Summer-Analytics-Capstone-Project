{
 "cells": [
  {
   "cell_type": "markdown",
   "metadata": {},
   "source": [
    "# SUYASH PRATAP SINGH"
   ]
  },
  {
   "cell_type": "markdown",
   "metadata": {},
   "source": [
    "## Import modules"
   ]
  },
  {
   "cell_type": "code",
   "execution_count": 2,
   "metadata": {},
   "outputs": [],
   "source": [
    "import numpy as np\n",
    "import pandas as pd\n",
    "import matplotlib.pyplot as plt\n",
    "%matplotlib inline"
   ]
  },
  {
   "cell_type": "markdown",
   "metadata": {},
   "source": [
    "## Read and display test,train data"
   ]
  },
  {
   "cell_type": "code",
   "execution_count": 3,
   "metadata": {},
   "outputs": [],
   "source": [
    "df_train = pd.read_csv('train.csv')\n",
    "df_test = pd.read_csv('test.csv')"
   ]
  },
  {
   "cell_type": "code",
   "execution_count": 4,
   "metadata": {},
   "outputs": [
    {
     "data": {
      "text/html": [
       "<div>\n",
       "<style scoped>\n",
       "    .dataframe tbody tr th:only-of-type {\n",
       "        vertical-align: middle;\n",
       "    }\n",
       "\n",
       "    .dataframe tbody tr th {\n",
       "        vertical-align: top;\n",
       "    }\n",
       "\n",
       "    .dataframe thead th {\n",
       "        text-align: right;\n",
       "    }\n",
       "</style>\n",
       "<table border=\"1\" class=\"dataframe\">\n",
       "  <thead>\n",
       "    <tr style=\"text-align: right;\">\n",
       "      <th></th>\n",
       "      <th>Id</th>\n",
       "      <th>Age</th>\n",
       "      <th>Attrition</th>\n",
       "      <th>BusinessTravel</th>\n",
       "      <th>Department</th>\n",
       "      <th>DistanceFromHome</th>\n",
       "      <th>Education</th>\n",
       "      <th>EducationField</th>\n",
       "      <th>EmployeeNumber</th>\n",
       "      <th>EnvironmentSatisfaction</th>\n",
       "      <th>...</th>\n",
       "      <th>PerformanceRating</th>\n",
       "      <th>StockOptionLevel</th>\n",
       "      <th>TotalWorkingYears</th>\n",
       "      <th>TrainingTimesLastYear</th>\n",
       "      <th>YearsAtCompany</th>\n",
       "      <th>YearsInCurrentRole</th>\n",
       "      <th>YearsSinceLastPromotion</th>\n",
       "      <th>YearsWithCurrManager</th>\n",
       "      <th>CommunicationSkill</th>\n",
       "      <th>Behaviour</th>\n",
       "    </tr>\n",
       "  </thead>\n",
       "  <tbody>\n",
       "    <tr>\n",
       "      <th>0</th>\n",
       "      <td>1</td>\n",
       "      <td>30</td>\n",
       "      <td>0</td>\n",
       "      <td>Non-Travel</td>\n",
       "      <td>Research &amp; Development</td>\n",
       "      <td>2</td>\n",
       "      <td>3</td>\n",
       "      <td>Medical</td>\n",
       "      <td>571</td>\n",
       "      <td>3</td>\n",
       "      <td>...</td>\n",
       "      <td>3</td>\n",
       "      <td>0</td>\n",
       "      <td>12</td>\n",
       "      <td>2</td>\n",
       "      <td>11</td>\n",
       "      <td>7</td>\n",
       "      <td>6</td>\n",
       "      <td>7</td>\n",
       "      <td>4</td>\n",
       "      <td>1</td>\n",
       "    </tr>\n",
       "    <tr>\n",
       "      <th>1</th>\n",
       "      <td>2</td>\n",
       "      <td>36</td>\n",
       "      <td>0</td>\n",
       "      <td>Travel_Rarely</td>\n",
       "      <td>Research &amp; Development</td>\n",
       "      <td>12</td>\n",
       "      <td>4</td>\n",
       "      <td>Life Sciences</td>\n",
       "      <td>1614</td>\n",
       "      <td>3</td>\n",
       "      <td>...</td>\n",
       "      <td>3</td>\n",
       "      <td>2</td>\n",
       "      <td>7</td>\n",
       "      <td>2</td>\n",
       "      <td>3</td>\n",
       "      <td>2</td>\n",
       "      <td>1</td>\n",
       "      <td>1</td>\n",
       "      <td>2</td>\n",
       "      <td>1</td>\n",
       "    </tr>\n",
       "    <tr>\n",
       "      <th>2</th>\n",
       "      <td>3</td>\n",
       "      <td>55</td>\n",
       "      <td>1</td>\n",
       "      <td>Travel_Rarely</td>\n",
       "      <td>Sales</td>\n",
       "      <td>2</td>\n",
       "      <td>1</td>\n",
       "      <td>Medical</td>\n",
       "      <td>842</td>\n",
       "      <td>3</td>\n",
       "      <td>...</td>\n",
       "      <td>3</td>\n",
       "      <td>0</td>\n",
       "      <td>12</td>\n",
       "      <td>3</td>\n",
       "      <td>9</td>\n",
       "      <td>7</td>\n",
       "      <td>7</td>\n",
       "      <td>3</td>\n",
       "      <td>5</td>\n",
       "      <td>1</td>\n",
       "    </tr>\n",
       "    <tr>\n",
       "      <th>3</th>\n",
       "      <td>4</td>\n",
       "      <td>39</td>\n",
       "      <td>0</td>\n",
       "      <td>Travel_Rarely</td>\n",
       "      <td>Research &amp; Development</td>\n",
       "      <td>24</td>\n",
       "      <td>1</td>\n",
       "      <td>Life Sciences</td>\n",
       "      <td>2014</td>\n",
       "      <td>1</td>\n",
       "      <td>...</td>\n",
       "      <td>3</td>\n",
       "      <td>0</td>\n",
       "      <td>18</td>\n",
       "      <td>2</td>\n",
       "      <td>7</td>\n",
       "      <td>7</td>\n",
       "      <td>1</td>\n",
       "      <td>7</td>\n",
       "      <td>4</td>\n",
       "      <td>1</td>\n",
       "    </tr>\n",
       "    <tr>\n",
       "      <th>4</th>\n",
       "      <td>5</td>\n",
       "      <td>37</td>\n",
       "      <td>0</td>\n",
       "      <td>Travel_Rarely</td>\n",
       "      <td>Research &amp; Development</td>\n",
       "      <td>3</td>\n",
       "      <td>3</td>\n",
       "      <td>Other</td>\n",
       "      <td>689</td>\n",
       "      <td>3</td>\n",
       "      <td>...</td>\n",
       "      <td>3</td>\n",
       "      <td>1</td>\n",
       "      <td>10</td>\n",
       "      <td>2</td>\n",
       "      <td>10</td>\n",
       "      <td>7</td>\n",
       "      <td>7</td>\n",
       "      <td>8</td>\n",
       "      <td>1</td>\n",
       "      <td>1</td>\n",
       "    </tr>\n",
       "  </tbody>\n",
       "</table>\n",
       "<p>5 rows × 29 columns</p>\n",
       "</div>"
      ],
      "text/plain": [
       "   Id  Age  Attrition BusinessTravel              Department  \\\n",
       "0   1   30          0     Non-Travel  Research & Development   \n",
       "1   2   36          0  Travel_Rarely  Research & Development   \n",
       "2   3   55          1  Travel_Rarely                   Sales   \n",
       "3   4   39          0  Travel_Rarely  Research & Development   \n",
       "4   5   37          0  Travel_Rarely  Research & Development   \n",
       "\n",
       "   DistanceFromHome  Education EducationField  EmployeeNumber  \\\n",
       "0                 2          3        Medical             571   \n",
       "1                12          4  Life Sciences            1614   \n",
       "2                 2          1        Medical             842   \n",
       "3                24          1  Life Sciences            2014   \n",
       "4                 3          3          Other             689   \n",
       "\n",
       "   EnvironmentSatisfaction  ... PerformanceRating  StockOptionLevel  \\\n",
       "0                        3  ...                 3                 0   \n",
       "1                        3  ...                 3                 2   \n",
       "2                        3  ...                 3                 0   \n",
       "3                        1  ...                 3                 0   \n",
       "4                        3  ...                 3                 1   \n",
       "\n",
       "  TotalWorkingYears  TrainingTimesLastYear YearsAtCompany  YearsInCurrentRole  \\\n",
       "0                12                      2             11                   7   \n",
       "1                 7                      2              3                   2   \n",
       "2                12                      3              9                   7   \n",
       "3                18                      2              7                   7   \n",
       "4                10                      2             10                   7   \n",
       "\n",
       "   YearsSinceLastPromotion YearsWithCurrManager  CommunicationSkill  Behaviour  \n",
       "0                        6                    7                   4          1  \n",
       "1                        1                    1                   2          1  \n",
       "2                        7                    3                   5          1  \n",
       "3                        1                    7                   4          1  \n",
       "4                        7                    8                   1          1  \n",
       "\n",
       "[5 rows x 29 columns]"
      ]
     },
     "execution_count": 4,
     "metadata": {},
     "output_type": "execute_result"
    }
   ],
   "source": [
    "df_train.head()"
   ]
  },
  {
   "cell_type": "code",
   "execution_count": 5,
   "metadata": {},
   "outputs": [
    {
     "data": {
      "text/html": [
       "<div>\n",
       "<style scoped>\n",
       "    .dataframe tbody tr th:only-of-type {\n",
       "        vertical-align: middle;\n",
       "    }\n",
       "\n",
       "    .dataframe tbody tr th {\n",
       "        vertical-align: top;\n",
       "    }\n",
       "\n",
       "    .dataframe thead th {\n",
       "        text-align: right;\n",
       "    }\n",
       "</style>\n",
       "<table border=\"1\" class=\"dataframe\">\n",
       "  <thead>\n",
       "    <tr style=\"text-align: right;\">\n",
       "      <th></th>\n",
       "      <th>Id</th>\n",
       "      <th>Age</th>\n",
       "      <th>BusinessTravel</th>\n",
       "      <th>Department</th>\n",
       "      <th>DistanceFromHome</th>\n",
       "      <th>Education</th>\n",
       "      <th>EducationField</th>\n",
       "      <th>EmployeeNumber</th>\n",
       "      <th>EnvironmentSatisfaction</th>\n",
       "      <th>Gender</th>\n",
       "      <th>...</th>\n",
       "      <th>PerformanceRating</th>\n",
       "      <th>StockOptionLevel</th>\n",
       "      <th>TotalWorkingYears</th>\n",
       "      <th>TrainingTimesLastYear</th>\n",
       "      <th>YearsAtCompany</th>\n",
       "      <th>YearsInCurrentRole</th>\n",
       "      <th>YearsSinceLastPromotion</th>\n",
       "      <th>YearsWithCurrManager</th>\n",
       "      <th>CommunicationSkill</th>\n",
       "      <th>Behaviour</th>\n",
       "    </tr>\n",
       "  </thead>\n",
       "  <tbody>\n",
       "    <tr>\n",
       "      <th>0</th>\n",
       "      <td>1</td>\n",
       "      <td>28</td>\n",
       "      <td>Travel_Rarely</td>\n",
       "      <td>Research &amp; Development</td>\n",
       "      <td>9</td>\n",
       "      <td>3</td>\n",
       "      <td>Medical</td>\n",
       "      <td>377</td>\n",
       "      <td>4</td>\n",
       "      <td>Male</td>\n",
       "      <td>...</td>\n",
       "      <td>4</td>\n",
       "      <td>1</td>\n",
       "      <td>5</td>\n",
       "      <td>3</td>\n",
       "      <td>5</td>\n",
       "      <td>2</td>\n",
       "      <td>0</td>\n",
       "      <td>4</td>\n",
       "      <td>5</td>\n",
       "      <td>1</td>\n",
       "    </tr>\n",
       "    <tr>\n",
       "      <th>1</th>\n",
       "      <td>2</td>\n",
       "      <td>31</td>\n",
       "      <td>Travel_Rarely</td>\n",
       "      <td>Sales</td>\n",
       "      <td>6</td>\n",
       "      <td>4</td>\n",
       "      <td>Medical</td>\n",
       "      <td>653</td>\n",
       "      <td>1</td>\n",
       "      <td>Male</td>\n",
       "      <td>...</td>\n",
       "      <td>4</td>\n",
       "      <td>2</td>\n",
       "      <td>13</td>\n",
       "      <td>4</td>\n",
       "      <td>7</td>\n",
       "      <td>7</td>\n",
       "      <td>5</td>\n",
       "      <td>7</td>\n",
       "      <td>3</td>\n",
       "      <td>1</td>\n",
       "    </tr>\n",
       "    <tr>\n",
       "      <th>2</th>\n",
       "      <td>3</td>\n",
       "      <td>37</td>\n",
       "      <td>Travel_Rarely</td>\n",
       "      <td>Research &amp; Development</td>\n",
       "      <td>6</td>\n",
       "      <td>3</td>\n",
       "      <td>Medical</td>\n",
       "      <td>474</td>\n",
       "      <td>3</td>\n",
       "      <td>Male</td>\n",
       "      <td>...</td>\n",
       "      <td>3</td>\n",
       "      <td>2</td>\n",
       "      <td>13</td>\n",
       "      <td>2</td>\n",
       "      <td>7</td>\n",
       "      <td>7</td>\n",
       "      <td>6</td>\n",
       "      <td>7</td>\n",
       "      <td>4</td>\n",
       "      <td>1</td>\n",
       "    </tr>\n",
       "    <tr>\n",
       "      <th>3</th>\n",
       "      <td>4</td>\n",
       "      <td>42</td>\n",
       "      <td>Travel_Rarely</td>\n",
       "      <td>Research &amp; Development</td>\n",
       "      <td>1</td>\n",
       "      <td>2</td>\n",
       "      <td>Life Sciences</td>\n",
       "      <td>827</td>\n",
       "      <td>4</td>\n",
       "      <td>Female</td>\n",
       "      <td>...</td>\n",
       "      <td>3</td>\n",
       "      <td>1</td>\n",
       "      <td>8</td>\n",
       "      <td>4</td>\n",
       "      <td>4</td>\n",
       "      <td>3</td>\n",
       "      <td>0</td>\n",
       "      <td>2</td>\n",
       "      <td>5</td>\n",
       "      <td>1</td>\n",
       "    </tr>\n",
       "    <tr>\n",
       "      <th>4</th>\n",
       "      <td>5</td>\n",
       "      <td>45</td>\n",
       "      <td>Non-Travel</td>\n",
       "      <td>Research &amp; Development</td>\n",
       "      <td>4</td>\n",
       "      <td>2</td>\n",
       "      <td>Life Sciences</td>\n",
       "      <td>972</td>\n",
       "      <td>3</td>\n",
       "      <td>Male</td>\n",
       "      <td>...</td>\n",
       "      <td>3</td>\n",
       "      <td>0</td>\n",
       "      <td>9</td>\n",
       "      <td>5</td>\n",
       "      <td>9</td>\n",
       "      <td>7</td>\n",
       "      <td>0</td>\n",
       "      <td>8</td>\n",
       "      <td>2</td>\n",
       "      <td>1</td>\n",
       "    </tr>\n",
       "  </tbody>\n",
       "</table>\n",
       "<p>5 rows × 28 columns</p>\n",
       "</div>"
      ],
      "text/plain": [
       "   Id  Age BusinessTravel              Department  DistanceFromHome  \\\n",
       "0   1   28  Travel_Rarely  Research & Development                 9   \n",
       "1   2   31  Travel_Rarely                   Sales                 6   \n",
       "2   3   37  Travel_Rarely  Research & Development                 6   \n",
       "3   4   42  Travel_Rarely  Research & Development                 1   \n",
       "4   5   45     Non-Travel  Research & Development                 4   \n",
       "\n",
       "   Education EducationField  EmployeeNumber  EnvironmentSatisfaction  Gender  \\\n",
       "0          3        Medical             377                        4    Male   \n",
       "1          4        Medical             653                        1    Male   \n",
       "2          3        Medical             474                        3    Male   \n",
       "3          2  Life Sciences             827                        4  Female   \n",
       "4          2  Life Sciences             972                        3    Male   \n",
       "\n",
       "   ...  PerformanceRating StockOptionLevel  TotalWorkingYears  \\\n",
       "0  ...                  4                1                  5   \n",
       "1  ...                  4                2                 13   \n",
       "2  ...                  3                2                 13   \n",
       "3  ...                  3                1                  8   \n",
       "4  ...                  3                0                  9   \n",
       "\n",
       "  TrainingTimesLastYear  YearsAtCompany  YearsInCurrentRole  \\\n",
       "0                     3               5                   2   \n",
       "1                     4               7                   7   \n",
       "2                     2               7                   7   \n",
       "3                     4               4                   3   \n",
       "4                     5               9                   7   \n",
       "\n",
       "  YearsSinceLastPromotion  YearsWithCurrManager  CommunicationSkill  Behaviour  \n",
       "0                       0                     4                   5          1  \n",
       "1                       5                     7                   3          1  \n",
       "2                       6                     7                   4          1  \n",
       "3                       0                     2                   5          1  \n",
       "4                       0                     8                   2          1  \n",
       "\n",
       "[5 rows x 28 columns]"
      ]
     },
     "execution_count": 5,
     "metadata": {},
     "output_type": "execute_result"
    }
   ],
   "source": [
    "df_test.head()"
   ]
  },
  {
   "cell_type": "code",
   "execution_count": 6,
   "metadata": {},
   "outputs": [],
   "source": [
    "import sklearn\n",
    "from sklearn.preprocessing import LabelEncoder\n",
    "le = LabelEncoder()"
   ]
  },
  {
   "cell_type": "code",
   "execution_count": 7,
   "metadata": {},
   "outputs": [],
   "source": [
    "df_train['BusinessTravel'] = le.fit_transform(df_train['BusinessTravel'])\n",
    "df_train['Department'] = le.fit_transform(df_train['Department'])\n",
    "df_train['EducationField'] = le.fit_transform(df_train['EducationField'])\n",
    "df_train['Gender'] = le.fit_transform(df_train['Gender'])\n",
    "df_train['JobRole'] = le.fit_transform(df_train['JobRole'])\n",
    "df_train['OverTime'] = le.fit_transform(df_train['OverTime'])\n",
    "df_train['MaritalStatus'] = le.fit_transform(df_train['MaritalStatus'])"
   ]
  },
  {
   "cell_type": "code",
   "execution_count": 8,
   "metadata": {},
   "outputs": [],
   "source": [
    "df_test['BusinessTravel'] = le.fit_transform(df_test['BusinessTravel'])\n",
    "df_test['Department'] = le.fit_transform(df_test['Department'])\n",
    "df_test['EducationField'] = le.fit_transform(df_test['EducationField'])\n",
    "df_test['Gender'] = le.fit_transform(df_test['Gender'])\n",
    "df_test['JobRole'] = le.fit_transform(df_test['JobRole'])\n",
    "df_test['OverTime'] = le.fit_transform(df_test['OverTime'])\n",
    "df_test['MaritalStatus'] = le.fit_transform(df_test['MaritalStatus'])\n"
   ]
  },
  {
   "cell_type": "markdown",
   "metadata": {},
   "source": [
    "## Split and train model"
   ]
  },
  {
   "cell_type": "code",
   "execution_count": 9,
   "metadata": {},
   "outputs": [],
   "source": [
    "x_train = df_train.drop('Attrition',axis=1)\n",
    "y_train = df_train['Attrition']"
   ]
  },
  {
   "cell_type": "code",
   "execution_count": 10,
   "metadata": {},
   "outputs": [],
   "source": [
    "from sklearn.linear_model import LogisticRegression\n",
    "import warnings\n",
    "warnings.filterwarnings('ignore')"
   ]
  },
  {
   "cell_type": "code",
   "execution_count": 11,
   "metadata": {},
   "outputs": [
    {
     "data": {
      "text/plain": [
       "LogisticRegression(C=1.0, class_weight=None, dual=False, fit_intercept=True,\n",
       "                   intercept_scaling=1, l1_ratio=None, max_iter=100,\n",
       "                   multi_class='auto', n_jobs=None, penalty='l2',\n",
       "                   random_state=None, solver='lbfgs', tol=0.0001, verbose=0,\n",
       "                   warm_start=False)"
      ]
     },
     "execution_count": 11,
     "metadata": {},
     "output_type": "execute_result"
    }
   ],
   "source": [
    "logmod = LogisticRegression()\n",
    "logmod.fit(x_train,y_train)"
   ]
  },
  {
   "cell_type": "markdown",
   "metadata": {},
   "source": [
    "## Predictions"
   ]
  },
  {
   "cell_type": "code",
   "execution_count": 12,
   "metadata": {},
   "outputs": [],
   "source": [
    "predictions = logmod.predict_proba(df_test)[:,1]\n"
   ]
  },
  {
   "cell_type": "code",
   "execution_count": 13,
   "metadata": {},
   "outputs": [
    {
     "data": {
      "text/plain": [
       "array([0.01208108, 0.010207  , 0.03411493, 0.01342378, 0.00345171,\n",
       "       0.00585857, 0.02451556, 0.00483406, 0.04373394, 0.00667176,\n",
       "       0.00307958, 0.01214782, 0.00432103, 0.01026016, 0.00643295,\n",
       "       0.02047622, 0.03594555, 0.02543464, 0.00715538, 0.00600591,\n",
       "       0.00338454, 0.06309095, 0.00525556, 0.01706627, 0.01965157,\n",
       "       0.01692076, 0.00523127, 0.00456882, 0.02959916, 0.04152786,\n",
       "       0.02083445, 0.01925312, 0.03527997, 0.02932389, 0.00172269,\n",
       "       0.01852118, 0.0048305 , 0.00145482, 0.03149707, 0.0211906 ,\n",
       "       0.11260854, 0.01523191, 0.00602617, 0.01847705, 0.00240073,\n",
       "       0.01147902, 0.02807493, 0.00821783, 0.00108484, 0.05086757,\n",
       "       0.01743621, 0.01305055, 0.04824505, 0.05882326, 0.12673709,\n",
       "       0.02031884, 0.01150205, 0.09199504, 0.00356721, 0.02237163,\n",
       "       0.00802851, 0.01829087, 0.01329241, 0.01966203, 0.03026839,\n",
       "       0.01552543, 0.04613466, 0.0250875 , 0.02386032, 0.04274029,\n",
       "       0.08192271, 0.00691   , 0.01672977, 0.11222455, 0.02157484,\n",
       "       0.07256587, 0.02806434, 0.03296732, 0.0543773 , 0.05128562,\n",
       "       0.02328527, 0.03160419, 0.02059322, 0.00079701, 0.02421389,\n",
       "       0.00543897, 0.03783021, 0.11872063, 0.01079779, 0.04377265,\n",
       "       0.03594847, 0.00855548, 0.03842476, 0.01958909, 0.05107172,\n",
       "       0.0499627 , 0.03057975, 0.01250829, 0.00719843, 0.01689394,\n",
       "       0.03366098, 0.00666055, 0.02827479, 0.01062503, 0.03380044,\n",
       "       0.02157163, 0.00723323, 0.12433425, 0.01897402, 0.00306346,\n",
       "       0.01418666, 0.00564734, 0.05725921, 0.00287222, 0.00537644,\n",
       "       0.01589431, 0.00598379, 0.01183254, 0.03705597, 0.01350594,\n",
       "       0.07559141, 0.02242163, 0.03848943, 0.00868387, 0.2532652 ,\n",
       "       0.00638782, 0.01795396, 0.32742464, 0.04000698, 0.01467172,\n",
       "       0.01338031, 0.00466904, 0.00728776, 0.07609276, 0.01448023,\n",
       "       0.01841518, 0.2000337 , 0.01103985, 0.02330096, 0.00762456,\n",
       "       0.01209605, 0.01922652, 0.01467727, 0.0248439 , 0.03055787,\n",
       "       0.0581871 , 0.02711749, 0.10412713, 0.03098781, 0.15996454,\n",
       "       0.1707189 , 0.01138064, 0.01016488, 0.04824249, 0.04367958,\n",
       "       0.03891447, 0.0271754 , 0.03598692, 0.01866531, 0.00708044,\n",
       "       0.15023398, 0.04202825, 0.06664233, 0.01660204, 0.03167878,\n",
       "       0.01433189, 0.23047126, 0.01712852, 0.01728097, 0.03831699,\n",
       "       0.03730089, 0.00225245, 0.042777  , 0.13873215, 0.0122368 ,\n",
       "       0.01840108, 0.01611781, 0.06812695, 0.18103412, 0.13418161,\n",
       "       0.10681276, 0.03065705, 0.14839846, 0.00802677, 0.06396613,\n",
       "       0.01300462, 0.00416602, 0.01641262, 0.0008561 , 0.01777539,\n",
       "       0.21748723, 0.05690388, 0.00244447, 0.05700493, 0.1017989 ,\n",
       "       0.05032989, 0.04974586, 0.04517593, 0.01180109, 0.04768068,\n",
       "       0.05054174, 0.13707969, 0.13242134, 0.01145947, 0.04997846,\n",
       "       0.02084504, 0.05751256, 0.07814332, 0.04772564, 0.07355091,\n",
       "       0.12130772, 0.06630147, 0.03113168, 0.08256385, 0.22555709,\n",
       "       0.04984121, 0.11766709, 0.03860209, 0.01776734, 0.01068648,\n",
       "       0.13814069, 0.01816115, 0.10979596, 0.10862592, 0.09505846,\n",
       "       0.02505269, 0.12027194, 0.01560062, 0.26349416, 0.03703502,\n",
       "       0.24145559, 0.06153117, 0.09163599, 0.08822631, 0.00455033,\n",
       "       0.09077657, 0.03713954, 0.01063631, 0.14587423, 0.17256302,\n",
       "       0.01475057, 0.03193657, 0.02581627, 0.14283866, 0.02275534,\n",
       "       0.00673696, 0.07414878, 0.01798228, 0.0038682 , 0.0104081 ,\n",
       "       0.04653736, 0.02789819, 0.04262852, 0.01373339, 0.02667487,\n",
       "       0.11959213, 0.04673962, 0.0780982 , 0.25224292, 0.04750447,\n",
       "       0.02436801, 0.06350264, 0.12812226, 0.20207507, 0.09889481,\n",
       "       0.01382982, 0.01789813, 0.09173735, 0.06720807, 0.00953993,\n",
       "       0.01428785, 0.18312321, 0.36822025, 0.1021434 , 0.14701673,\n",
       "       0.05405565, 0.11654597, 0.06541821, 0.03450991, 0.0201932 ,\n",
       "       0.0151997 , 0.05539242, 0.01031752, 0.04693926, 0.04048453,\n",
       "       0.37556946, 0.16228198, 0.08235931, 0.03681596, 0.14374718,\n",
       "       0.27303836, 0.18129358, 0.11474855, 0.04324181, 0.00867899,\n",
       "       0.02711295, 0.23347433, 0.03057076, 0.13299063, 0.0713647 ,\n",
       "       0.07698512, 0.06185205, 0.13216104, 0.29553286, 0.02267607,\n",
       "       0.05908351, 0.14103095, 0.15788795, 0.07391536, 0.07897294,\n",
       "       0.02559276, 0.25469668, 0.04512527, 0.08961027, 0.05201609,\n",
       "       0.15905573, 0.03432186, 0.1481672 , 0.09375359, 0.08835366,\n",
       "       0.10623405, 0.09531207, 0.01628189, 0.02397631, 0.07416156,\n",
       "       0.16031322, 0.24482313, 0.40584399, 0.17376097, 0.05074835,\n",
       "       0.05389318, 0.29461799, 0.1659314 , 0.03132079, 0.10622948,\n",
       "       0.01706364, 0.03312941, 0.06112189, 0.13637356, 0.11096738,\n",
       "       0.45837408, 0.15276377, 0.00424737, 0.11792553, 0.21312697,\n",
       "       0.17088739, 0.15545574, 0.02434919, 0.09846932, 0.05738596,\n",
       "       0.02903133, 0.08354815, 0.23217508, 0.03727938, 0.04658875,\n",
       "       0.11062048, 0.23352264, 0.00563351, 0.10120694, 0.1824198 ,\n",
       "       0.06706076, 0.04738961, 0.0516088 , 0.1035665 , 0.27756095,\n",
       "       0.05678935, 0.06025837, 0.17418623, 0.25659756, 0.13211837,\n",
       "       0.08187287, 0.01137049, 0.04083131, 0.12744104, 0.06144409,\n",
       "       0.0397242 , 0.16977384, 0.07042658, 0.13323375, 0.03031105,\n",
       "       0.19961829, 0.06920881, 0.06106776, 0.06425869, 0.26623848,\n",
       "       0.17929758, 0.43837702, 0.08396945, 0.41425859, 0.12497325,\n",
       "       0.14332774, 0.03554929, 0.10383887, 0.1088425 , 0.03587   ,\n",
       "       0.09696454, 0.12959539, 0.00391356, 0.01752005, 0.16639702,\n",
       "       0.07068723, 0.05827856, 0.04411721, 0.17323104, 0.10439739,\n",
       "       0.01948238, 0.08275697, 0.13340925, 0.06290268, 0.02803397,\n",
       "       0.17973082, 0.11012215, 0.0618609 , 0.06455374, 0.0694532 ,\n",
       "       0.00801965, 0.10642654, 0.57235918, 0.12175414, 0.13957378,\n",
       "       0.63362525, 0.10704631, 0.030149  , 0.04275479, 0.10190788,\n",
       "       0.03549723, 0.16725697, 0.32625384, 0.13016612, 0.04646829,\n",
       "       0.0583669 , 0.27713725, 0.14290419, 0.00755754, 0.13134838,\n",
       "       0.0246166 , 0.08475364, 0.02689399, 0.01578377, 0.11837516,\n",
       "       0.28692183, 0.03575852, 0.04327039, 0.01822657, 0.02558413,\n",
       "       0.07923296, 0.02948365, 0.60398847, 0.19347457, 0.07361098,\n",
       "       0.15460473, 0.02619601, 0.33320375, 0.15097839, 0.19930353,\n",
       "       0.05515958, 0.28115563, 0.16916485, 0.09802566, 0.0747659 ,\n",
       "       0.02351118, 0.04551391, 0.56825371, 0.15931466, 0.18210494,\n",
       "       0.15193701, 0.3689386 , 0.28762672, 0.34200657, 0.04631287])"
      ]
     },
     "execution_count": 13,
     "metadata": {},
     "output_type": "execute_result"
    }
   ],
   "source": [
    "predictions"
   ]
  },
  {
   "cell_type": "code",
   "execution_count": 14,
   "metadata": {},
   "outputs": [],
   "source": [
    "df1 = pd.DataFrame(df_test['Id'],columns=['Id'])"
   ]
  },
  {
   "cell_type": "code",
   "execution_count": 15,
   "metadata": {},
   "outputs": [
    {
     "data": {
      "text/html": [
       "<div>\n",
       "<style scoped>\n",
       "    .dataframe tbody tr th:only-of-type {\n",
       "        vertical-align: middle;\n",
       "    }\n",
       "\n",
       "    .dataframe tbody tr th {\n",
       "        vertical-align: top;\n",
       "    }\n",
       "\n",
       "    .dataframe thead th {\n",
       "        text-align: right;\n",
       "    }\n",
       "</style>\n",
       "<table border=\"1\" class=\"dataframe\">\n",
       "  <thead>\n",
       "    <tr style=\"text-align: right;\">\n",
       "      <th></th>\n",
       "      <th>Id</th>\n",
       "    </tr>\n",
       "  </thead>\n",
       "  <tbody>\n",
       "    <tr>\n",
       "      <th>0</th>\n",
       "      <td>1</td>\n",
       "    </tr>\n",
       "    <tr>\n",
       "      <th>1</th>\n",
       "      <td>2</td>\n",
       "    </tr>\n",
       "    <tr>\n",
       "      <th>2</th>\n",
       "      <td>3</td>\n",
       "    </tr>\n",
       "    <tr>\n",
       "      <th>3</th>\n",
       "      <td>4</td>\n",
       "    </tr>\n",
       "    <tr>\n",
       "      <th>4</th>\n",
       "      <td>5</td>\n",
       "    </tr>\n",
       "  </tbody>\n",
       "</table>\n",
       "</div>"
      ],
      "text/plain": [
       "   Id\n",
       "0   1\n",
       "1   2\n",
       "2   3\n",
       "3   4\n",
       "4   5"
      ]
     },
     "execution_count": 15,
     "metadata": {},
     "output_type": "execute_result"
    }
   ],
   "source": [
    "df1.head()"
   ]
  },
  {
   "cell_type": "code",
   "execution_count": 16,
   "metadata": {},
   "outputs": [],
   "source": [
    "df2 =pd.DataFrame(predictions,columns=['Attrition'])"
   ]
  },
  {
   "cell_type": "code",
   "execution_count": 17,
   "metadata": {},
   "outputs": [
    {
     "data": {
      "text/html": [
       "<div>\n",
       "<style scoped>\n",
       "    .dataframe tbody tr th:only-of-type {\n",
       "        vertical-align: middle;\n",
       "    }\n",
       "\n",
       "    .dataframe tbody tr th {\n",
       "        vertical-align: top;\n",
       "    }\n",
       "\n",
       "    .dataframe thead th {\n",
       "        text-align: right;\n",
       "    }\n",
       "</style>\n",
       "<table border=\"1\" class=\"dataframe\">\n",
       "  <thead>\n",
       "    <tr style=\"text-align: right;\">\n",
       "      <th></th>\n",
       "      <th>Attrition</th>\n",
       "    </tr>\n",
       "  </thead>\n",
       "  <tbody>\n",
       "    <tr>\n",
       "      <th>0</th>\n",
       "      <td>0.012081</td>\n",
       "    </tr>\n",
       "    <tr>\n",
       "      <th>1</th>\n",
       "      <td>0.010207</td>\n",
       "    </tr>\n",
       "    <tr>\n",
       "      <th>2</th>\n",
       "      <td>0.034115</td>\n",
       "    </tr>\n",
       "    <tr>\n",
       "      <th>3</th>\n",
       "      <td>0.013424</td>\n",
       "    </tr>\n",
       "    <tr>\n",
       "      <th>4</th>\n",
       "      <td>0.003452</td>\n",
       "    </tr>\n",
       "  </tbody>\n",
       "</table>\n",
       "</div>"
      ],
      "text/plain": [
       "   Attrition\n",
       "0   0.012081\n",
       "1   0.010207\n",
       "2   0.034115\n",
       "3   0.013424\n",
       "4   0.003452"
      ]
     },
     "execution_count": 17,
     "metadata": {},
     "output_type": "execute_result"
    }
   ],
   "source": [
    "df2.head()"
   ]
  },
  {
   "cell_type": "code",
   "execution_count": 18,
   "metadata": {},
   "outputs": [],
   "source": [
    "df_final = pd.concat([df1,df2],axis=1)"
   ]
  },
  {
   "cell_type": "code",
   "execution_count": 19,
   "metadata": {},
   "outputs": [
    {
     "data": {
      "text/html": [
       "<div>\n",
       "<style scoped>\n",
       "    .dataframe tbody tr th:only-of-type {\n",
       "        vertical-align: middle;\n",
       "    }\n",
       "\n",
       "    .dataframe tbody tr th {\n",
       "        vertical-align: top;\n",
       "    }\n",
       "\n",
       "    .dataframe thead th {\n",
       "        text-align: right;\n",
       "    }\n",
       "</style>\n",
       "<table border=\"1\" class=\"dataframe\">\n",
       "  <thead>\n",
       "    <tr style=\"text-align: right;\">\n",
       "      <th></th>\n",
       "      <th>Id</th>\n",
       "      <th>Attrition</th>\n",
       "    </tr>\n",
       "  </thead>\n",
       "  <tbody>\n",
       "    <tr>\n",
       "      <th>0</th>\n",
       "      <td>1</td>\n",
       "      <td>0.012081</td>\n",
       "    </tr>\n",
       "    <tr>\n",
       "      <th>1</th>\n",
       "      <td>2</td>\n",
       "      <td>0.010207</td>\n",
       "    </tr>\n",
       "    <tr>\n",
       "      <th>2</th>\n",
       "      <td>3</td>\n",
       "      <td>0.034115</td>\n",
       "    </tr>\n",
       "    <tr>\n",
       "      <th>3</th>\n",
       "      <td>4</td>\n",
       "      <td>0.013424</td>\n",
       "    </tr>\n",
       "    <tr>\n",
       "      <th>4</th>\n",
       "      <td>5</td>\n",
       "      <td>0.003452</td>\n",
       "    </tr>\n",
       "    <tr>\n",
       "      <th>...</th>\n",
       "      <td>...</td>\n",
       "      <td>...</td>\n",
       "    </tr>\n",
       "    <tr>\n",
       "      <th>465</th>\n",
       "      <td>466</td>\n",
       "      <td>0.151937</td>\n",
       "    </tr>\n",
       "    <tr>\n",
       "      <th>466</th>\n",
       "      <td>467</td>\n",
       "      <td>0.368939</td>\n",
       "    </tr>\n",
       "    <tr>\n",
       "      <th>467</th>\n",
       "      <td>468</td>\n",
       "      <td>0.287627</td>\n",
       "    </tr>\n",
       "    <tr>\n",
       "      <th>468</th>\n",
       "      <td>469</td>\n",
       "      <td>0.342007</td>\n",
       "    </tr>\n",
       "    <tr>\n",
       "      <th>469</th>\n",
       "      <td>470</td>\n",
       "      <td>0.046313</td>\n",
       "    </tr>\n",
       "  </tbody>\n",
       "</table>\n",
       "<p>470 rows × 2 columns</p>\n",
       "</div>"
      ],
      "text/plain": [
       "      Id  Attrition\n",
       "0      1   0.012081\n",
       "1      2   0.010207\n",
       "2      3   0.034115\n",
       "3      4   0.013424\n",
       "4      5   0.003452\n",
       "..   ...        ...\n",
       "465  466   0.151937\n",
       "466  467   0.368939\n",
       "467  468   0.287627\n",
       "468  469   0.342007\n",
       "469  470   0.046313\n",
       "\n",
       "[470 rows x 2 columns]"
      ]
     },
     "execution_count": 19,
     "metadata": {},
     "output_type": "execute_result"
    }
   ],
   "source": [
    "df_final"
   ]
  },
  {
   "cell_type": "code",
   "execution_count": 20,
   "metadata": {},
   "outputs": [],
   "source": [
    "df_final = df_final.set_index('Id')"
   ]
  },
  {
   "cell_type": "code",
   "execution_count": 21,
   "metadata": {},
   "outputs": [
    {
     "data": {
      "text/html": [
       "<div>\n",
       "<style scoped>\n",
       "    .dataframe tbody tr th:only-of-type {\n",
       "        vertical-align: middle;\n",
       "    }\n",
       "\n",
       "    .dataframe tbody tr th {\n",
       "        vertical-align: top;\n",
       "    }\n",
       "\n",
       "    .dataframe thead th {\n",
       "        text-align: right;\n",
       "    }\n",
       "</style>\n",
       "<table border=\"1\" class=\"dataframe\">\n",
       "  <thead>\n",
       "    <tr style=\"text-align: right;\">\n",
       "      <th></th>\n",
       "      <th>Attrition</th>\n",
       "    </tr>\n",
       "    <tr>\n",
       "      <th>Id</th>\n",
       "      <th></th>\n",
       "    </tr>\n",
       "  </thead>\n",
       "  <tbody>\n",
       "    <tr>\n",
       "      <th>1</th>\n",
       "      <td>0.012081</td>\n",
       "    </tr>\n",
       "    <tr>\n",
       "      <th>2</th>\n",
       "      <td>0.010207</td>\n",
       "    </tr>\n",
       "    <tr>\n",
       "      <th>3</th>\n",
       "      <td>0.034115</td>\n",
       "    </tr>\n",
       "    <tr>\n",
       "      <th>4</th>\n",
       "      <td>0.013424</td>\n",
       "    </tr>\n",
       "    <tr>\n",
       "      <th>5</th>\n",
       "      <td>0.003452</td>\n",
       "    </tr>\n",
       "  </tbody>\n",
       "</table>\n",
       "</div>"
      ],
      "text/plain": [
       "    Attrition\n",
       "Id           \n",
       "1    0.012081\n",
       "2    0.010207\n",
       "3    0.034115\n",
       "4    0.013424\n",
       "5    0.003452"
      ]
     },
     "execution_count": 21,
     "metadata": {},
     "output_type": "execute_result"
    }
   ],
   "source": [
    "df_final.head()"
   ]
  },
  {
   "cell_type": "code",
   "execution_count": 22,
   "metadata": {},
   "outputs": [],
   "source": [
    "df_final.to_csv('Submission1_U011P5R9NRK.csv')"
   ]
  },
  {
   "cell_type": "markdown",
   "metadata": {},
   "source": [
    "## Using Randomforest Classifier"
   ]
  },
  {
   "cell_type": "code",
   "execution_count": 23,
   "metadata": {},
   "outputs": [],
   "source": [
    "from sklearn.model_selection import train_test_split\n",
    "x_train, cvx_test, y_train, cvy_test = train_test_split(x_train, y_train, test_size=0.2, random_state=420)"
   ]
  },
  {
   "cell_type": "code",
   "execution_count": 24,
   "metadata": {},
   "outputs": [
    {
     "data": {
      "text/plain": [
       "0.911042944785276"
      ]
     },
     "execution_count": 24,
     "metadata": {},
     "output_type": "execute_result"
    }
   ],
   "source": [
    "\n",
    "from sklearn.ensemble import RandomForestClassifier\n",
    "model = RandomForestClassifier(max_depth=10,n_estimators=200, criterion='entropy', random_state=420)\n",
    "model.fit(x_train, y_train)\n",
    "predict_train = model.predict_proba(x_train)[:,1]\n",
    "predict_test  = model.predict_proba(cvx_test)[:,1]\n",
    "\n",
    "model.score(cvx_test, cvy_test)"
   ]
  },
  {
   "cell_type": "code",
   "execution_count": 25,
   "metadata": {},
   "outputs": [
    {
     "data": {
      "text/plain": [
       "array([[157,   3],\n",
       "       [ 26, 140]], dtype=int64)"
      ]
     },
     "execution_count": 25,
     "metadata": {},
     "output_type": "execute_result"
    }
   ],
   "source": [
    "from sklearn.metrics import classification_report, confusion_matrix\n",
    "confusion_matrix(cvy_test, model.predict(cvx_test))"
   ]
  },
  {
   "cell_type": "code",
   "execution_count": 26,
   "metadata": {},
   "outputs": [
    {
     "data": {
      "text/plain": [
       "array([[683,   0],\n",
       "       [  0, 619]], dtype=int64)"
      ]
     },
     "execution_count": 26,
     "metadata": {},
     "output_type": "execute_result"
    }
   ],
   "source": [
    "confusion_matrix(y_train, model.predict(x_train))\n"
   ]
  },
  {
   "cell_type": "code",
   "execution_count": 27,
   "metadata": {},
   "outputs": [],
   "source": [
    "prediction = model.predict_proba(df_test)[:,1]\n"
   ]
  },
  {
   "cell_type": "code",
   "execution_count": 28,
   "metadata": {},
   "outputs": [
    {
     "data": {
      "text/html": [
       "<div>\n",
       "<style scoped>\n",
       "    .dataframe tbody tr th:only-of-type {\n",
       "        vertical-align: middle;\n",
       "    }\n",
       "\n",
       "    .dataframe tbody tr th {\n",
       "        vertical-align: top;\n",
       "    }\n",
       "\n",
       "    .dataframe thead th {\n",
       "        text-align: right;\n",
       "    }\n",
       "</style>\n",
       "<table border=\"1\" class=\"dataframe\">\n",
       "  <thead>\n",
       "    <tr style=\"text-align: right;\">\n",
       "      <th></th>\n",
       "      <th>Attrition</th>\n",
       "    </tr>\n",
       "  </thead>\n",
       "  <tbody>\n",
       "    <tr>\n",
       "      <th>count</th>\n",
       "      <td>470.000000</td>\n",
       "    </tr>\n",
       "    <tr>\n",
       "      <th>mean</th>\n",
       "      <td>0.168210</td>\n",
       "    </tr>\n",
       "    <tr>\n",
       "      <th>std</th>\n",
       "      <td>0.132790</td>\n",
       "    </tr>\n",
       "    <tr>\n",
       "      <th>min</th>\n",
       "      <td>0.006138</td>\n",
       "    </tr>\n",
       "    <tr>\n",
       "      <th>25%</th>\n",
       "      <td>0.073234</td>\n",
       "    </tr>\n",
       "    <tr>\n",
       "      <th>50%</th>\n",
       "      <td>0.127562</td>\n",
       "    </tr>\n",
       "    <tr>\n",
       "      <th>75%</th>\n",
       "      <td>0.210048</td>\n",
       "    </tr>\n",
       "    <tr>\n",
       "      <th>max</th>\n",
       "      <td>0.741574</td>\n",
       "    </tr>\n",
       "  </tbody>\n",
       "</table>\n",
       "</div>"
      ],
      "text/plain": [
       "        Attrition\n",
       "count  470.000000\n",
       "mean     0.168210\n",
       "std      0.132790\n",
       "min      0.006138\n",
       "25%      0.073234\n",
       "50%      0.127562\n",
       "75%      0.210048\n",
       "max      0.741574"
      ]
     },
     "execution_count": 28,
     "metadata": {},
     "output_type": "execute_result"
    }
   ],
   "source": [
    "output = pd.Series(prediction)\n",
    "output_final = pd.concat([df_test['Id'], output], axis=1)\n",
    "output_final.columns=['Id', 'Attrition']\n",
    "output_final.set_index('Id',inplace=True)\n",
    "output_final.describe()\n"
   ]
  },
  {
   "cell_type": "code",
   "execution_count": 29,
   "metadata": {},
   "outputs": [
    {
     "data": {
      "text/html": [
       "<div>\n",
       "<style scoped>\n",
       "    .dataframe tbody tr th:only-of-type {\n",
       "        vertical-align: middle;\n",
       "    }\n",
       "\n",
       "    .dataframe tbody tr th {\n",
       "        vertical-align: top;\n",
       "    }\n",
       "\n",
       "    .dataframe thead th {\n",
       "        text-align: right;\n",
       "    }\n",
       "</style>\n",
       "<table border=\"1\" class=\"dataframe\">\n",
       "  <thead>\n",
       "    <tr style=\"text-align: right;\">\n",
       "      <th></th>\n",
       "      <th>Attrition</th>\n",
       "    </tr>\n",
       "    <tr>\n",
       "      <th>Id</th>\n",
       "      <th></th>\n",
       "    </tr>\n",
       "  </thead>\n",
       "  <tbody>\n",
       "    <tr>\n",
       "      <th>1</th>\n",
       "      <td>0.120083</td>\n",
       "    </tr>\n",
       "    <tr>\n",
       "      <th>2</th>\n",
       "      <td>0.100939</td>\n",
       "    </tr>\n",
       "    <tr>\n",
       "      <th>3</th>\n",
       "      <td>0.113436</td>\n",
       "    </tr>\n",
       "    <tr>\n",
       "      <th>4</th>\n",
       "      <td>0.174687</td>\n",
       "    </tr>\n",
       "    <tr>\n",
       "      <th>5</th>\n",
       "      <td>0.071733</td>\n",
       "    </tr>\n",
       "    <tr>\n",
       "      <th>...</th>\n",
       "      <td>...</td>\n",
       "    </tr>\n",
       "    <tr>\n",
       "      <th>466</th>\n",
       "      <td>0.368309</td>\n",
       "    </tr>\n",
       "    <tr>\n",
       "      <th>467</th>\n",
       "      <td>0.689066</td>\n",
       "    </tr>\n",
       "    <tr>\n",
       "      <th>468</th>\n",
       "      <td>0.340234</td>\n",
       "    </tr>\n",
       "    <tr>\n",
       "      <th>469</th>\n",
       "      <td>0.074351</td>\n",
       "    </tr>\n",
       "    <tr>\n",
       "      <th>470</th>\n",
       "      <td>0.076819</td>\n",
       "    </tr>\n",
       "  </tbody>\n",
       "</table>\n",
       "<p>470 rows × 1 columns</p>\n",
       "</div>"
      ],
      "text/plain": [
       "     Attrition\n",
       "Id            \n",
       "1     0.120083\n",
       "2     0.100939\n",
       "3     0.113436\n",
       "4     0.174687\n",
       "5     0.071733\n",
       "..         ...\n",
       "466   0.368309\n",
       "467   0.689066\n",
       "468   0.340234\n",
       "469   0.074351\n",
       "470   0.076819\n",
       "\n",
       "[470 rows x 1 columns]"
      ]
     },
     "execution_count": 29,
     "metadata": {},
     "output_type": "execute_result"
    }
   ],
   "source": [
    "output_final"
   ]
  },
  {
   "cell_type": "code",
   "execution_count": 30,
   "metadata": {},
   "outputs": [],
   "source": [
    "output_final.to_csv('Submission2_U011P5R9NRK.csv')"
   ]
  },
  {
   "cell_type": "markdown",
   "metadata": {},
   "source": [
    "## Simple neural network"
   ]
  },
  {
   "cell_type": "code",
   "execution_count": 85,
   "metadata": {},
   "outputs": [],
   "source": [
    "import keras\n",
    "from keras.models import Sequential\n",
    "from keras.layers import Activation\n",
    "from keras.layers.core import Dense\n",
    "from keras.optimizers import Adam\n",
    "from keras.metrics import binary_crossentropy"
   ]
  },
  {
   "cell_type": "markdown",
   "metadata": {},
   "source": [
    "### Hyperparameters"
   ]
  },
  {
   "cell_type": "code",
   "execution_count": 91,
   "metadata": {},
   "outputs": [],
   "source": [
    "activation_function = 'relu'\n",
    "loss = 'binary_crossentropy'\n",
    "hidden_units_layer_1 = 28\n",
    "hidden_units_layer_2 = 32\n",
    "output_units = 1\n",
    "batch_size = 10\n",
    "epochs = 25\n",
    "learning_rate = 0.001"
   ]
  },
  {
   "cell_type": "code",
   "execution_count": 92,
   "metadata": {},
   "outputs": [
    {
     "name": "stdout",
     "output_type": "stream",
     "text": [
      "Model: \"sequential_12\"\n",
      "_________________________________________________________________\n",
      "Layer (type)                 Output Shape              Param #   \n",
      "=================================================================\n",
      "dense_32 (Dense)             (None, 28)                812       \n",
      "_________________________________________________________________\n",
      "dense_33 (Dense)             (None, 32)                928       \n",
      "_________________________________________________________________\n",
      "dense_34 (Dense)             (None, 1)                 33        \n",
      "=================================================================\n",
      "Total params: 1,773\n",
      "Trainable params: 1,773\n",
      "Non-trainable params: 0\n",
      "_________________________________________________________________\n"
     ]
    }
   ],
   "source": [
    "model = Sequential([\n",
    "    Dense(hidden_units_layer_1, input_dim=28, activation=activation_function),\n",
    "    Dense(hidden_units_layer_2, activation=activation_function),\n",
    "    Dense(output_units, activation='sigmoid')\n",
    "])\n",
    "model.summary()"
   ]
  },
  {
   "cell_type": "code",
   "execution_count": 93,
   "metadata": {},
   "outputs": [],
   "source": [
    "optimizer = Adam(lr = 0.0001)"
   ]
  },
  {
   "cell_type": "code",
   "execution_count": 94,
   "metadata": {},
   "outputs": [],
   "source": [
    "model.compile(optimizer, loss= loss, metrics=['accuracy'])\n"
   ]
  },
  {
   "cell_type": "code",
   "execution_count": 95,
   "metadata": {},
   "outputs": [
    {
     "name": "stdout",
     "output_type": "stream",
     "text": [
      "Train on 1041 samples, validate on 261 samples\n",
      "Epoch 1/25\n",
      " - 0s - loss: 576.5354 - accuracy: 0.4697 - val_loss: 261.6982 - val_accuracy: 0.4981\n",
      "Epoch 2/25\n",
      " - 0s - loss: 88.4715 - accuracy: 0.5130 - val_loss: 30.8311 - val_accuracy: 0.5441\n",
      "Epoch 3/25\n",
      " - 0s - loss: 14.6890 - accuracy: 0.6196 - val_loss: 8.8544 - val_accuracy: 0.6245\n",
      "Epoch 4/25\n",
      " - 0s - loss: 5.5520 - accuracy: 0.6830 - val_loss: 5.6700 - val_accuracy: 0.6705\n",
      "Epoch 5/25\n",
      " - 0s - loss: 4.0768 - accuracy: 0.7166 - val_loss: 4.7602 - val_accuracy: 0.6973\n",
      "Epoch 6/25\n",
      " - 0s - loss: 3.5984 - accuracy: 0.7406 - val_loss: 3.8413 - val_accuracy: 0.7050\n",
      "Epoch 7/25\n",
      " - 0s - loss: 3.4512 - accuracy: 0.7397 - val_loss: 3.7946 - val_accuracy: 0.7241\n",
      "Epoch 8/25\n",
      " - 0s - loss: 3.1718 - accuracy: 0.7426 - val_loss: 3.2116 - val_accuracy: 0.7126\n",
      "Epoch 9/25\n",
      " - 0s - loss: 2.9110 - accuracy: 0.7493 - val_loss: 3.7358 - val_accuracy: 0.6897\n",
      "Epoch 10/25\n",
      " - 0s - loss: 2.9591 - accuracy: 0.7445 - val_loss: 2.9348 - val_accuracy: 0.7318\n",
      "Epoch 11/25\n",
      " - 0s - loss: 2.3746 - accuracy: 0.7570 - val_loss: 2.9712 - val_accuracy: 0.7471\n",
      "Epoch 12/25\n",
      " - 0s - loss: 2.3505 - accuracy: 0.7656 - val_loss: 3.5642 - val_accuracy: 0.7318\n",
      "Epoch 13/25\n",
      " - 0s - loss: 2.3242 - accuracy: 0.7550 - val_loss: 2.5345 - val_accuracy: 0.7318\n",
      "Epoch 14/25\n",
      " - 0s - loss: 2.1305 - accuracy: 0.7646 - val_loss: 3.2079 - val_accuracy: 0.7318\n",
      "Epoch 15/25\n",
      " - 0s - loss: 2.0412 - accuracy: 0.7675 - val_loss: 2.3726 - val_accuracy: 0.7586\n",
      "Epoch 16/25\n",
      " - 0s - loss: 1.6551 - accuracy: 0.7858 - val_loss: 1.9162 - val_accuracy: 0.7663\n",
      "Epoch 17/25\n",
      " - 0s - loss: 1.6920 - accuracy: 0.7839 - val_loss: 1.9527 - val_accuracy: 0.7969\n",
      "Epoch 18/25\n",
      " - 0s - loss: 1.5271 - accuracy: 0.7877 - val_loss: 2.5618 - val_accuracy: 0.7586\n",
      "Epoch 19/25\n",
      " - 0s - loss: 1.4160 - accuracy: 0.7935 - val_loss: 1.8568 - val_accuracy: 0.7739\n",
      "Epoch 20/25\n",
      " - 0s - loss: 1.2645 - accuracy: 0.7973 - val_loss: 1.9909 - val_accuracy: 0.7433\n",
      "Epoch 21/25\n",
      " - 0s - loss: 1.1509 - accuracy: 0.7906 - val_loss: 1.7355 - val_accuracy: 0.8008\n",
      "Epoch 22/25\n",
      " - 0s - loss: 2.0938 - accuracy: 0.7406 - val_loss: 1.8066 - val_accuracy: 0.7816\n",
      "Epoch 23/25\n",
      " - 0s - loss: 1.3137 - accuracy: 0.7867 - val_loss: 1.7227 - val_accuracy: 0.8123\n",
      "Epoch 24/25\n",
      " - 0s - loss: 1.2844 - accuracy: 0.7781 - val_loss: 1.7161 - val_accuracy: 0.8084\n",
      "Epoch 25/25\n",
      " - 0s - loss: 0.9904 - accuracy: 0.8165 - val_loss: 1.8134 - val_accuracy: 0.7893\n"
     ]
    }
   ],
   "source": [
    "history = model.fit(x_train, y_train, validation_split=0.2, batch_size=batch_size, epochs=epochs, shuffle=True, verbose=2)\n"
   ]
  },
  {
   "cell_type": "code",
   "execution_count": 97,
   "metadata": {},
   "outputs": [],
   "source": [
    "predictions1 = model.predict_classes(df_test,batch_size=100,verbose=0)\n"
   ]
  },
  {
   "cell_type": "markdown",
   "metadata": {},
   "source": [
    "# THANK YOU"
   ]
  }
 ],
 "metadata": {
  "kernelspec": {
   "display_name": "Python 3",
   "language": "python",
   "name": "python3"
  },
  "language_info": {
   "codemirror_mode": {
    "name": "ipython",
    "version": 3
   },
   "file_extension": ".py",
   "mimetype": "text/x-python",
   "name": "python",
   "nbconvert_exporter": "python",
   "pygments_lexer": "ipython3",
   "version": "3.8.1"
  }
 },
 "nbformat": 4,
 "nbformat_minor": 4
}
